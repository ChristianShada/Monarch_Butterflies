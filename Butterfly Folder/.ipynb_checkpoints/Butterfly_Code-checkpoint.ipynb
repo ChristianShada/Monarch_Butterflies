{
 "cells": [
  {
   "cell_type": "code",
   "execution_count": 1,
   "id": "d596cd7f",
   "metadata": {},
   "outputs": [],
   "source": [
    "import geemap\n",
    "import json\n",
    "import os\n",
    "import requests\n",
    "from geemap import geojson_to_ee, ee_to_geojson\n",
    "from ipyleaflet import GeoJSON"
   ]
  },
  {
   "cell_type": "code",
   "execution_count": 2,
   "id": "e2e1c0e3",
   "metadata": {
    "scrolled": true
   },
   "outputs": [
    {
     "data": {
      "application/vnd.jupyter.widget-view+json": {
       "model_id": "36a66116f50d4975a77205e981b524af",
       "version_major": 2,
       "version_minor": 0
      },
      "text/plain": [
       "Map(center=[20, 0], controls=(WidgetControl(options=['position', 'transparent_bg'], widget=HBox(children=(Togg…"
      ]
     },
     "metadata": {},
     "output_type": "display_data"
    }
   ],
   "source": [
    "Map = geemap.Map()\n",
    "Map"
   ]
  },
  {
   "cell_type": "code",
   "execution_count": 4,
   "id": "3371f12f",
   "metadata": {},
   "outputs": [],
   "source": [
    "file_path = os.path.abspath('../static_Sue/geoJSON/journey_north/JNorth_Adult_Site_2016_1.geojson')\n",
    "\n",
    "if not os.path.exists(file_path):\n",
    "    url = 'https://github.com/ChristianShada/Monarch_Butterflies/blob/main/static_Sue/geoJSON/journey_north/JNorth_Adult_First_Site/JNorth_Adult_First_Site_1997_12.geojson'\n",
    "    r = request.get(url)\n",
    "    with open(file_path, 'w') as f:\n",
    "        f.write(r.content.decode(\"utf-8\"))\n",
    "        \n",
    "    with open(file_path) as f:\n",
    "             json_data = json.load(f)"
   ]
  },
  {
   "cell_type": "code",
   "execution_count": null,
   "id": "6c4d1733",
   "metadata": {},
   "outputs": [],
   "source": [
    "maker"
   ]
  }
 ],
 "metadata": {
  "kernelspec": {
   "display_name": "Python 3",
   "language": "python",
   "name": "python3"
  },
  "language_info": {
   "codemirror_mode": {
    "name": "ipython",
    "version": 3
   },
   "file_extension": ".py",
   "mimetype": "text/x-python",
   "name": "python",
   "nbconvert_exporter": "python",
   "pygments_lexer": "ipython3",
   "version": "3.7.10"
  }
 },
 "nbformat": 4,
 "nbformat_minor": 5
}
